{
 "cells": [
  {
   "cell_type": "markdown",
   "id": "3a9f14a8",
   "metadata": {},
   "source": [
    "# 1. Introduction"
   ]
  },
  {
   "cell_type": "markdown",
   "id": "483b6e10",
   "metadata": {},
   "source": [
    "## 1.1 Overview\n",
    "  The problem of providing clean water to the population of over 57,000,000 in Tanzania is a major concern, as many existing water points in the country are in need of repair or have failed altogether. To address this issue, a classifier will be built to predict the condition of a water well based on information such as the type of pump, date of installation and others. The target audience for this classifier could be an NGO focused on repairing wells or the Government of Tanzania looking to improve the construction of new wells."
   ]
  },
  {
   "cell_type": "markdown",
   "id": "affcbc85",
   "metadata": {},
   "source": [
    "## 1.2 Business Understanding\n",
    "The objective of building this classifier is to assist the NGO or the Government of Tanzania in their efforts to provide clean water to the population. By predicting the condition of a water well, the NGO can prioritize their resources and focus on the wells that are in need of repair, while the Government of Tanzania can use the insights to make informed decisions about the construction of new wells. The classifier will provide a reliable and efficient solution to the problem of ensuring clean water in Tanzania, which is essential for the health and well-being of its population."
   ]
  },
  {
   "cell_type": "markdown",
   "id": "5397e963",
   "metadata": {},
   "source": [
    "## 1.3 Data Understanding \n",
    "The data used in this analysis was obtained from <a href=\"https://www.drivendata.org/competitions/7/pump-it-up-data-mining-the-water-table/page/25/\">DrivenData</a> and was sourced from <a href=\"https://taarifa.org/\">Taarifa</a> and the  <a href=\"https://www.maji.go.tz/\">Tanzanian Ministry of Water</a> . It contains information on water wells in Tanzania and is divided into three files, including training set values, training set labels, and test set values. The training data has 59,400 observations and 40 variables, providing extensive information on various aspects of the water pumps:\n",
    "\n",
    "- amount_tsh - Total static head (amount water available to waterpoint)\n",
    "- date_recorded - The date the row was entered\n",
    "- funder - Who funded the well\n",
    "- gps_height - Altitude of the well\n",
    "- installer - Organization that installed the well\n",
    "- longitude - GPS coordinate\n",
    "- latitude - GPS coordinate\n",
    "- wpt_name - Name of the waterpoint if there is one\n",
    "- num_private -\n",
    "- basin - Geographic water basin\n",
    "- subvillage - Geographic location\n",
    "- region - Geographic location\n",
    "- region_code - Geographic location (coded)\n",
    "- district_code - Geographic location (coded)\n",
    "- lga - Geographic location\n",
    "- ward - Geographic location\n",
    "- population - Population around the well\n",
    "- public_meeting - True/False\n",
    "- recorded_by - Group entering this row of data\n",
    "- scheme_management - Who operates the waterpoint\n",
    "- scheme_name - Who operates the waterpoint\n",
    "- permit - If the waterpoint is permitted\n",
    "- construction_year - Year the waterpoint was constructed\n",
    "- extraction_type - The kind of extraction the waterpoint uses\n",
    "- extraction_type_group - The kind of extraction the waterpoint uses\n",
    "- extraction_type_class - The kind of extraction the waterpoint uses\n",
    "- management - How the waterpoint is managed\n",
    "- management_group - How the waterpoint is managed\n",
    "- payment - What the water costs\n",
    "- payment_type - What the water costs\n",
    "- water_quality - The quality of the water\n",
    "- quality_group - The quality of the water\n",
    "- quantity - The quantity of water\n",
    "- quantity_group - The quantity of water\n",
    "- source - The source of the water\n",
    "- source_type - The source of the water\n",
    "- source_class - The source of the water\n",
    "- waterpoint_type - The kind of waterpoint\n",
    "- waterpoint_type_group - The kind of waterpoint\n",
    "\n"
   ]
  },
  {
   "cell_type": "markdown",
   "id": "74cb75bb",
   "metadata": {},
   "source": []
  }
 ],
 "metadata": {
  "kernelspec": {
   "display_name": "Python (learn-env)",
   "language": "python",
   "name": "learn-env"
  },
  "language_info": {
   "codemirror_mode": {
    "name": "ipython",
    "version": 3
   },
   "file_extension": ".py",
   "mimetype": "text/x-python",
   "name": "python",
   "nbconvert_exporter": "python",
   "pygments_lexer": "ipython3",
   "version": "3.10.9"
  }
 },
 "nbformat": 4,
 "nbformat_minor": 5
}
